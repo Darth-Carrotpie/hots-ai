{
 "cells": [
  {
   "cell_type": "markdown",
   "metadata": {},
   "source": [
    "### INPUTS"
   ]
  },
  {
   "cell_type": "code",
   "execution_count": 1,
   "metadata": {},
   "outputs": [],
   "source": [
    "sample_size = 30000 #30000"
   ]
  },
  {
   "cell_type": "markdown",
   "metadata": {},
   "source": [
    "### Imports"
   ]
  },
  {
   "cell_type": "code",
   "execution_count": 2,
   "metadata": {},
   "outputs": [],
   "source": [
    "from fastai.imports import *\n",
    "from fastai.structured import *\n",
    "\n",
    "from pandas_summary import DataFrameSummary\n",
    "from sklearn.ensemble import RandomForestRegressor, RandomForestClassifier\n",
    "from IPython.display import display\n",
    "\n",
    "from sklearn import metrics"
   ]
  },
  {
   "cell_type": "code",
   "execution_count": 3,
   "metadata": {},
   "outputs": [],
   "source": [
    "import numpy as np\n",
    "import pandas as pd\n",
    "df = pd.read_csv('data/export_flat_form.csv')"
   ]
  },
  {
   "cell_type": "markdown",
   "metadata": {},
   "source": [
    "### Helper functions"
   ]
  },
  {
   "cell_type": "code",
   "execution_count": 4,
   "metadata": {},
   "outputs": [],
   "source": [
    "def split_vals(a,n): \n",
    "    return a[:n].copy(), a[n:].copy()\n",
    "\n",
    "def split_random(a, n = 0.5):\n",
    "    msk = np.random.rand(len(a)) < n\n",
    "    return a[msk].copy(), a[~msk].copy()\n",
    "\n",
    "\n",
    "def split_random_masks(a, n1, n2):\n",
    "    msk = np.random.rand(len(a)) < (n1 + n2)\n",
    "    msk1 = ((np.random.rand(len(a)) < n1/(n1+n2)) & msk)\n",
    "    msk2 = (~msk1 & msk)\n",
    "    return ~msk, msk1, msk2\n",
    "\n",
    "\n",
    "def rmse(x,y):\n",
    "    return math.sqrt(((x-y)**2).mean())\n",
    "\n",
    "def print_score(m):\n",
    "    res = [\"rmse(trn):\",rmse(m.predict(X_train), y_train), \" rmse(val):\",rmse(m.predict(X_valid), y_valid),\n",
    "                \" scr(trn):\",m.score(X_train, y_train), \" scr(val):\",m.score(X_valid, y_valid)]\n",
    "    if hasattr(m, 'oob_score_'): res.append(m.oob_score_)\n",
    "    print(res)"
   ]
  },
  {
   "cell_type": "markdown",
   "metadata": {},
   "source": [
    "## Preproccessing"
   ]
  },
  {
   "cell_type": "markdown",
   "metadata": {},
   "source": [
    "### Dates Filter"
   ]
  },
  {
   "cell_type": "code",
   "execution_count": 5,
   "metadata": {},
   "outputs": [],
   "source": [
    "df.date = pd.to_datetime(df[\"date\"])\n",
    "dates_mask = (df.date > '2020-10-01')\n",
    "df_newer_dates = df.loc[dates_mask]\n",
    "dates_ordinal_newer = pd.Series([x.toordinal() for x in df_newer_dates.date])"
   ]
  },
  {
   "cell_type": "code",
   "execution_count": 6,
   "metadata": {},
   "outputs": [
    {
     "data": {
      "text/plain": [
       "[Text(737660.0, 0, '2020-08-23'),\n",
       " Text(737700.0, 0, '2020-10-02'),\n",
       " Text(737740.0, 0, '2020-11-11'),\n",
       " Text(737780.0, 0, '2020-12-21')]"
      ]
     },
     "execution_count": 6,
     "metadata": {},
     "output_type": "execute_result"
    },
    {
     "data": {
      "image/png": "[encoded data removed]",
      "text/plain": [
       "<Figure size 432x288 with 1 Axes>"
      ]
     },
     "metadata": {
      "needs_background": "light"
     },
     "output_type": "display_data"
    }
   ],
   "source": [
    "ax = dates_ordinal_newer.plot(kind='kde')\n",
    "# rename the xticks with labels\n",
    "x_ticks = ax.get_xticks()\n",
    "ax.set_xticks(x_ticks[::2])\n",
    "xlabels = [datetime.datetime.fromordinal(int(x)).strftime('%Y-%m-%d') for x in x_ticks[::2]]\n",
    "ax.set_xticklabels(xlabels)"
   ]
  },
  {
   "cell_type": "code",
   "execution_count": 7,
   "metadata": {},
   "outputs": [
    {
     "name": "stdout",
     "output_type": "stream",
     "text": [
      "pre-filter\n",
      "oldest match: 2020-01-01 00:54:03   newest match: 2020-11-14 12:54:01\n",
      "post-filter\n",
      "oldest match: 2020-10-01 00:02:11   newest match: 2020-11-14 12:54:01\n"
     ]
    }
   ],
   "source": [
    "min_date = df.date.min()\n",
    "max_date = df.date.max()\n",
    "print(\"pre-filter\")\n",
    "print(\"oldest match: \"+ str(min_date)+\"   newest match: \"+str(max_date))\n",
    "min_date = df_newer_dates.date.min()\n",
    "max_date = df_newer_dates.date.max()\n",
    "print(\"post-filter\")\n",
    "print(\"oldest match: \"+ str(min_date)+\"   newest match: \"+str(max_date))"
   ]
  },
  {
   "cell_type": "markdown",
   "metadata": {},
   "source": [
    "### Weight by Date Feature\n",
    "Here we add a column, which shows days elapsed from the oldest match in set. We will later use this if needed for weighing model inputs."
   ]
  },
  {
   "cell_type": "code",
   "execution_count": 8,
   "metadata": {},
   "outputs": [],
   "source": [
    "df_newer_dates = df_newer_dates.assign(weeks_elapsed = (df_newer_dates.date.dt.isocalendar().week - min_date.week))"
   ]
  },
  {
   "cell_type": "code",
   "execution_count": 9,
   "metadata": {},
   "outputs": [],
   "source": [
    "#could mb get patch dates info table and do weights around that:\n",
    "#match_date is between patch_date1 and patch_date2\n",
    "#and so on weights based on next patch index"
   ]
  },
  {
   "cell_type": "code",
   "execution_count": 10,
   "metadata": {},
   "outputs": [
    {
     "name": "stdout",
     "output_type": "stream",
     "text": [
      "(45855, 15)\n",
      "(30000, 15)\n"
     ]
    }
   ],
   "source": [
    "print(df_newer_dates.shape)\n",
    "df_raw = df_newer_dates.sample(n = sample_size, random_state = 1, axis = 0)\n",
    "print(df_raw.shape)\n",
    "df_raw.reset_index(drop=True, inplace=True)\n",
    "#print(df_raw.tail())"
   ]
  },
  {
   "cell_type": "markdown",
   "metadata": {},
   "source": [
    "#### Drop matches containing least popular heroes"
   ]
  },
  {
   "cell_type": "code",
   "execution_count": 11,
   "metadata": {},
   "outputs": [],
   "source": [
    "winner_cols = ['winnerA', 'winnerB', 'winnerC', 'winnerD', 'winnerE']\n",
    "loser_cols = ['loserA', 'loserB', 'loserC', 'loserD', 'loserE']\n",
    "train_cats(df_raw)\n",
    "hero_names = df_raw['winnerA'].cat.categories\n",
    "hero_cols = winner_cols + loser_cols"
   ]
  },
  {
   "cell_type": "code",
   "execution_count": 12,
   "metadata": {},
   "outputs": [],
   "source": [
    "#df['winnerA'].value_counts()\n",
    "#list(hero_names)"
   ]
  },
  {
   "cell_type": "code",
   "execution_count": 13,
   "metadata": {},
   "outputs": [],
   "source": [
    "def drop_low_encounters(threshold = 0.2):\n",
    "    ncp = pd.DataFrame()\n",
    "    ncp = ncp.assign(names = list(hero_names))\n",
    "    ncp = ncp.set_index(\"names\")\n",
    "    for col in hero_cols:\n",
    "        cnts = df[col].value_counts()\n",
    "        #print(cnts.iloc[:1])\n",
    "        #ncp[col] = df[col].value_counts()\n",
    "        ncp = pd.concat([ncp, df[col].value_counts()], axis = 1)\n",
    "    ncp[\"total\"] = ncp.sum(axis=1)\n",
    "    names_to_drop = ncp.nsmallest(n=int(len(hero_names) * threshold), columns=[\"total\"], keep=\"all\")\n",
    "    names_to_drop.index.name = 'names'\n",
    "    names_to_drop = names_to_drop.reset_index()\n",
    "    ntd = names_to_drop.names.to_list()\n",
    "    mask = df_raw[hero_cols].isin(ntd)\n",
    "    mask = mask.any(1)\n",
    "    return df_raw[~mask]\n",
    "\n",
    "#df_raw = drop_low_encounters(threshold = 0.2)\n",
    "#df_raw = df_raw.reset_index(drop=True)\n",
    "#hero_names = df_raw['winnerA'].cat.categories\n",
    "#a, b = df_raw.shape\n",
    "#print(\"new shape: \",df_raw.shape, \",  Dataset shrunk to \", round(a/sample_size*100, 2), \"%\")"
   ]
  },
  {
   "cell_type": "markdown",
   "metadata": {},
   "source": [
    "### Feature Transform"
   ]
  },
  {
   "cell_type": "markdown",
   "metadata": {},
   "source": [
    "#### Mixing up Y"
   ]
  },
  {
   "cell_type": "code",
   "execution_count": 14,
   "metadata": {},
   "outputs": [
    {
     "name": "stdout",
     "output_type": "stream",
     "text": [
      "0.4978666666666667\n",
      "(30000, 15)\n"
     ]
    }
   ],
   "source": [
    "invert_ratio = 0.5\n",
    "#n_inv = int(len(df_raw) * invert_ratio)\n",
    "df_standard, df_inverted = split_random(df_raw, n=invert_ratio)\n",
    "df_inverted = df_inverted.rename(columns={\"winnerA\": \"loserA\", \"winnerB\": \"loserB\", \"winnerC\": \"loserC\", \"winnerD\": \"loserD\", \"winnerE\": \"loserE\",\n",
    "                            \"loserA\": \"winnerA\", \"loserB\": \"winnerB\", \"loserC\": \"winnerC\", \"loserD\": \"winnerD\", \"loserE\": \"winnerE\"})\n",
    "#df.loc[idx] = df.loc[idx].rename(columns={'R':'L','L':'R'})\n",
    "df_inverted['outcome'] = 0\n",
    "df_mixed = df_standard.append(df_inverted)\n",
    "#but to preserve relevancy to date, need to reorder by date:\n",
    "#df_mixed = df_mixed.sort_values(by='date')\n",
    "print(df_mixed.outcome.mean())\n",
    "print(df_mixed.shape)"
   ]
  },
  {
   "cell_type": "code",
   "execution_count": 15,
   "metadata": {},
   "outputs": [
    {
     "name": "stdout",
     "output_type": "stream",
     "text": [
      "Empty DataFrame\n",
      "Columns: [data]\n",
      "Index: []\n"
     ]
    }
   ],
   "source": [
    "tmp = df_mixed[-1:].transpose()\n",
    "tmp.columns = [\"data\"]\n",
    "print(tmp[tmp['data']==True])"
   ]
  },
  {
   "cell_type": "code",
   "execution_count": 16,
   "metadata": {},
   "outputs": [],
   "source": [
    "test_output_df = df_mixed.drop([\"date\", \"weeks_elapsed\"], axis = 1)\n",
    "from sklearn.preprocessing import LabelEncoder\n",
    "le = LabelEncoder()\n",
    "for col in test_output_df.columns:\n",
    "    test_output_df[col] = le.fit_transform(test_output_df[col])\n",
    "#print(test_output_df.head())\n",
    "#test_output_df.to_csv(\"data/test_raw_df.csv\")"
   ]
  },
  {
   "cell_type": "code",
   "execution_count": 17,
   "metadata": {},
   "outputs": [
    {
     "name": "stdout",
     "output_type": "stream",
     "text": [
      "[14, 2, 87, 87, 87, 87, 87, 87, 87, 87, 87, 87]\n"
     ]
    }
   ],
   "source": [
    "train_cats(df_mixed)\n",
    "print([len(df_mixed[x].cat.categories) for x in df.columns[1:13]])\n",
    "heroes_total = max(hero_names)\n",
    "map_names = df_mixed['game_map'].cat.categories\n",
    "#clear up memory:\n",
    "#dates_ordinal_newer = 0\n",
    "#dates_ordinal = 0\n",
    "#df = pd.DataFrame()\n",
    "#df_raw = pd.DataFrame()\n",
    "#df_standard = pd.DataFrame()\n",
    "#df_inverted = pd.DataFrame()"
   ]
  },
  {
   "cell_type": "markdown",
   "metadata": {},
   "source": [
    "##### Lists for indexing uses"
   ]
  },
  {
   "cell_type": "code",
   "execution_count": 18,
   "metadata": {},
   "outputs": [],
   "source": [
    "mns = [x[1] for x in list(enumerate(map_names))]\n",
    "yhns = ['yours_'+x[1] for x in list(enumerate(hero_names))]\n",
    "thns = ['theirs_'+x[1] for x in list(enumerate(hero_names))]\n",
    "col_names =mns+yhns+thns"
   ]
  },
  {
   "cell_type": "markdown",
   "metadata": {},
   "source": [
    "#### Helper transform functions"
   ]
  },
  {
   "cell_type": "code",
   "execution_count": 19,
   "metadata": {},
   "outputs": [],
   "source": [
    "def hero_hot_transform(game_map = '', winners = [], losers = [], bans = []):\n",
    "    new_row = pd.Series(index = hero_names, dtype = 'int8')\n",
    "    for x in hero_names:\n",
    "        if x in winners:\n",
    "            new_row[x] = 2\n",
    "        if x in losers:\n",
    "            new_row[x] = 1\n",
    "    game_map_index = int(df_mixed['game_map'].cat.categories.get_loc(game_map))\n",
    "    new_row = new_row.append(pd.Series(game_map_index, index = ['game_map'], dtype = 'int8'))\n",
    "    return new_row\n",
    "\n",
    "\n",
    "def hero_one_hot(game_map = '', winners = [], losers = []):\n",
    "    new_row = pd.Series(index = col_names, dtype = 'boolean')\n",
    "    new_row[:] = False\n",
    "    for x in hero_names:\n",
    "        if x in winners:\n",
    "            new_row['yours_'+x] = True\n",
    "        if x in losers:\n",
    "            new_row['theirs_'+x] = True\n",
    "    new_row[game_map] = True\n",
    "    return new_row"
   ]
  },
  {
   "cell_type": "markdown",
   "metadata": {},
   "source": [
    "##### Run the actual transforms\n",
    "This take a long time. So it would be best to have intermediate saving / loading of the transformed data. But after models are finalized, this can be done in data gathering step, so no need for now."
   ]
  },
  {
   "cell_type": "code",
   "execution_count": 20,
   "metadata": {},
   "outputs": [],
   "source": [
    "def minHotTransform():\n",
    "    colmn_names = [a for a in hero_names]+['game_map']\n",
    "    dummies_data = pd.DataFrame(columns = colmn_names, dtype = 'int8')\n",
    "    for index in range(0, int(len(df_mixed))): #\n",
    "        game_map = df_mixed['game_map'].iloc[index]\n",
    "        #game_type = df_mixed['game_type'].iloc[index]\n",
    "\n",
    "        winners = list(df_mixed[winner_cols].iloc[index].astype(str))\n",
    "        losers = list(df_mixed[loser_cols].iloc[index].astype(str))\n",
    "        dummies_data = dummies_data.append(hero_hot_transform(game_map = game_map, winners = winners, losers = losers), ignore_index=True)\n",
    "    return dummies_data\n",
    "    \n",
    "def fullHotTransform():\n",
    "    dummies_data = pd.DataFrame(columns = col_names, dtype = 'boolean')\n",
    "    for index in range(0, int(len(df_mixed))): #\n",
    "        game_map = df_mixed['game_map'].iloc[index]\n",
    "        #game_type = df_mixed['game_type'].iloc[index]\n",
    "\n",
    "        winners = list(df_mixed[winner_cols].iloc[index].astype(str))\n",
    "        losers = list(df_mixed[loser_cols].iloc[index].astype(str))\n",
    "        dummies_data = dummies_data.append(hero_one_hot(game_map = game_map, winners = winners, losers = losers), ignore_index=True)\n",
    "    return dummies_data"
   ]
  },
  {
   "cell_type": "code",
   "execution_count": 21,
   "metadata": {},
   "outputs": [
    {
     "name": "stdout",
     "output_type": "stream",
     "text": [
      "CPU times: user 28min 37s, sys: 9.07 s, total: 28min 46s\n",
      "Wall time: 29min 13s\n"
     ]
    }
   ],
   "source": [
    "%%time\n",
    "#dummies_data = fullHotTransform()\n",
    "dummies_data = fullHotTransform()"
   ]
  },
  {
   "cell_type": "code",
   "execution_count": 22,
   "metadata": {},
   "outputs": [],
   "source": [
    "#dummies_data = pd.concat([dummies_data, df_mixed[['outcome']].astype(bool)], axis = 1)\n",
    "dummies_data = pd.concat([dummies_data, df_mixed[['outcome']].astype(bool)], axis = 1)"
   ]
  },
  {
   "cell_type": "code",
   "execution_count": 23,
   "metadata": {
    "scrolled": true
   },
   "outputs": [],
   "source": [
    "#print(dummies_data.yours_Valla.sum())\n",
    "#print(dummies_data.dtypes)\n",
    "#print(dummies_data.shape)\n",
    "#dummies_data.tail()"
   ]
  },
  {
   "cell_type": "code",
   "execution_count": 24,
   "metadata": {},
   "outputs": [],
   "source": [
    "def print_last(df):\n",
    "    tmp = df[-1:].transpose()\n",
    "    tmp.columns = [\"data\"]\n",
    "    print(tmp[tmp['data']==True])\n",
    "#print_last(dummies_data)"
   ]
  },
  {
   "cell_type": "code",
   "execution_count": 25,
   "metadata": {},
   "outputs": [],
   "source": [
    "def find_row(df):\n",
    "    l = [\"Falstad\",\"Sonya\",\"Gall\",\"Cho\",\"Stukov\"]\n",
    "    cols = ['yours_'+x for x in l]\n",
    "    tmp_row = df[df[cols].all(1)]\n",
    "    tmp = tmp_row.transpose()\n",
    "    tmp.columns = [\"data\"]\n",
    "    print(tmp[tmp['data']==True])\n",
    "#find_row(dummies_data)"
   ]
  },
  {
   "cell_type": "markdown",
   "metadata": {},
   "source": [
    "##### Finally export the result to a CSV"
   ]
  },
  {
   "cell_type": "code",
   "execution_count": 26,
   "metadata": {},
   "outputs": [],
   "source": [
    "dummies_data.to_csv(\"data/transform_hot_full.csv\")\n",
    "#dummies_data.to_csv(\"data/transform_hot_full_shrunk.csv\")\n",
    "#dummies_data.to_csv(\"data/transform_hot_mini.csv\")"
   ]
  }
 ],
 "metadata": {
  "kernelspec": {
   "display_name": "Python 3",
   "language": "python",
   "name": "python3"
  },
  "language_info": {
   "codemirror_mode": {
    "name": "ipython",
    "version": 3
   },
   "file_extension": ".py",
   "mimetype": "text/x-python",
   "name": "python",
   "nbconvert_exporter": "python",
   "pygments_lexer": "ipython3",
   "version": "3.6.12"
  },
  "varInspector": {
   "cols": {
    "lenName": 16,
    "lenType": 16,
    "lenVar": 40
   },
   "kernels_config": {
    "python": {
     "delete_cmd_postfix": "",
     "delete_cmd_prefix": "del ",
     "library": "var_list.py",
     "varRefreshCmd": "print(var_dic_list())"
    },
    "r": {
     "delete_cmd_postfix": ") ",
     "delete_cmd_prefix": "rm(",
     "library": "var_list.r",
     "varRefreshCmd": "cat(var_dic_list()) "
    }
   },
   "types_to_exclude": [
    "module",
    "function",
    "builtin_function_or_method",
    "instance",
    "_Feature"
   ],
   "window_display": false
  }
 },
 "nbformat": 4,
 "nbformat_minor": 4
}
