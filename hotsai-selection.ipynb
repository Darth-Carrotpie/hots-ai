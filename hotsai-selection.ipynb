{
 "cells": [
  {
   "cell_type": "markdown",
   "metadata": {},
   "source": [
    "### Imports"
   ]
  },
  {
   "cell_type": "code",
   "execution_count": 51,
   "metadata": {},
   "outputs": [],
   "source": [
    "from fastai.imports import *\n",
    "from fastai.structured import train_cats\n",
    "import numpy as np\n",
    "import pandas as pd\n",
    "#df = pd.read_csv('data/transform_hot_full.csv', index_col=0)\n",
    "df = pd.read_csv('data/test_raw_df.csv', index_col=0)\n",
    "#df = pd.read_csv('data/transform_hot_mini.csv', index_col=0)"
   ]
  },
  {
   "cell_type": "markdown",
   "metadata": {},
   "source": [
    "### Helper functions"
   ]
  },
  {
   "cell_type": "code",
   "execution_count": 52,
   "metadata": {},
   "outputs": [],
   "source": [
    "m_names = pd.read_csv(\"exports/game_map_cats.csv\",header=None, index_col=0, squeeze=True).to_dict()\n",
    "map_names = [n for x, n, in m_names.items()]\n",
    "map_names_swapped = dict([(value, key) for key, value in m_names.items()])\n",
    "\n",
    "h_names= pd.read_csv(\"exports/hero_name_cats.csv\",header=None, index_col=0, squeeze=True).to_dict()\n",
    "hero_names = [n for x, n, in h_names.items()]"
   ]
  },
  {
   "cell_type": "code",
   "execution_count": 53,
   "metadata": {},
   "outputs": [
    {
     "data": {
      "text/plain": [
       "Index(['game_map', 'game_type', 'winnerA', 'winnerB', 'winnerC', 'winnerD',\n",
       "       'winnerE', 'loserA', 'loserB', 'loserC', 'loserD', 'loserE'],\n",
       "      dtype='object')"
      ]
     },
     "execution_count": 53,
     "metadata": {},
     "output_type": "execute_result"
    }
   ],
   "source": [
    "mns = [x[1] for x in list(enumerate(map_names))]\n",
    "yhns = ['yours_'+x[1] for x in list(enumerate(hero_names))]\n",
    "thns = ['theirs_'+x[1] for x in list(enumerate(hero_names))]\n",
    "#col_names = mns+yhns+thns\n",
    "col_names = df.loc[:, df.columns != 'outcome'].columns\n",
    "col_names"
   ]
  },
  {
   "cell_type": "code",
   "execution_count": 54,
   "metadata": {},
   "outputs": [
    {
     "name": "stdout",
     "output_type": "stream",
     "text": [
      "Empty DataFrame\n",
      "Columns: [data]\n",
      "Index: []\n"
     ]
    }
   ],
   "source": [
    "tmp = df[-1:].transpose()\n",
    "tmp.columns = [\"data\"]\n",
    "print(tmp[tmp['data']==True])"
   ]
  },
  {
   "cell_type": "markdown",
   "metadata": {},
   "source": [
    "### Training"
   ]
  },
  {
   "cell_type": "markdown",
   "metadata": {},
   "source": [
    "#### Prepare X and Y for train and val sets."
   ]
  },
  {
   "cell_type": "code",
   "execution_count": 55,
   "metadata": {},
   "outputs": [],
   "source": [
    "#SAMPLE_SIZE = 3000\n",
    "data1 = df#.sample(n = SAMPLE_SIZE, random_state = 1, axis = 0)\n",
    "train_cats(data1)"
   ]
  },
  {
   "cell_type": "markdown",
   "metadata": {},
   "source": [
    "## Training many models for comparison"
   ]
  },
  {
   "cell_type": "code",
   "execution_count": 56,
   "metadata": {},
   "outputs": [],
   "source": [
    "#from: https://www.kaggle.com/ldfreeman3/a-data-science-framework-to-achieve-99-accuracy\n",
    "from sklearn import linear_model, ensemble, gaussian_process, naive_bayes, neighbors, svm, tree, discriminant_analysis\n",
    "from sklearn import model_selection\n",
    "from xgboost import XGBClassifier"
   ]
  },
  {
   "cell_type": "code",
   "execution_count": 57,
   "metadata": {},
   "outputs": [],
   "source": [
    "MLA = [\n",
    "    #Ensemble Methods\n",
    "    ensemble.AdaBoostClassifier(),\n",
    "    ensemble.BaggingClassifier(),\n",
    "    ensemble.ExtraTreesClassifier(),\n",
    "    ensemble.GradientBoostingClassifier(),\n",
    "    ensemble.RandomForestClassifier(),\n",
    "\n",
    "    #Gaussian Processes\n",
    "    #gaussian_process.GaussianProcessClassifier(), #slow\n",
    "    \n",
    "    #GLM\n",
    "    linear_model.LogisticRegressionCV(),\n",
    "    linear_model.PassiveAggressiveClassifier(),\n",
    "    linear_model.RidgeClassifierCV(),\n",
    "    linear_model.SGDClassifier(),\n",
    "    linear_model.Perceptron(),\n",
    "    \n",
    "    #Navies Bayes\n",
    "    naive_bayes.BernoulliNB(),\n",
    "    naive_bayes.GaussianNB(),\n",
    "    \n",
    "    #Nearest Neighbor\n",
    "    neighbors.KNeighborsClassifier(),\n",
    "    \n",
    "    #SVM\n",
    "    #svm.SVC(probability=True), #slow\n",
    "    #svm.NuSVC(probability=True), #slow\n",
    "    svm.LinearSVC(),\n",
    "    \n",
    "    #Trees    \n",
    "    tree.DecisionTreeClassifier(),\n",
    "    tree.ExtraTreeClassifier(),\n",
    "    \n",
    "    #Discriminant Analysis\n",
    "    discriminant_analysis.LinearDiscriminantAnalysis(),\n",
    "    discriminant_analysis.QuadraticDiscriminantAnalysis(),\n",
    "\n",
    "    \n",
    "    #xgboost: http://xgboost.readthedocs.io/en/latest/model.html\n",
    "    XGBClassifier()    \n",
    "    ]"
   ]
  },
  {
   "cell_type": "code",
   "execution_count": 58,
   "metadata": {},
   "outputs": [
    {
     "data": {
      "text/plain": [
       "outcome    0.501767\n",
       "dtype: float64"
      ]
     },
     "execution_count": 58,
     "metadata": {},
     "output_type": "execute_result"
    }
   ],
   "source": [
    "Target = ['outcome']\n",
    "data1[Target].mean()"
   ]
  },
  {
   "cell_type": "code",
   "execution_count": 59,
   "metadata": {},
   "outputs": [
    {
     "name": "stderr",
     "output_type": "stream",
     "text": [
      "Working on \"XGBClassifier\": 100%|██████████| 19/19 [01:54<00:00,  6.04s/it]                \n"
     ]
    },
    {
     "data": {
      "text/html": [
       "<div>\n",
       "<style scoped>\n",
       "    .dataframe tbody tr th:only-of-type {\n",
       "        vertical-align: middle;\n",
       "    }\n",
       "\n",
       "    .dataframe tbody tr th {\n",
       "        vertical-align: top;\n",
       "    }\n",
       "\n",
       "    .dataframe thead th {\n",
       "        text-align: right;\n",
       "    }\n",
       "</style>\n",
       "<table border=\"1\" class=\"dataframe\">\n",
       "  <thead>\n",
       "    <tr style=\"text-align: right;\">\n",
       "      <th></th>\n",
       "      <th>MLA Name</th>\n",
       "      <th>MLA Parameters</th>\n",
       "      <th>MLA Train Accuracy Mean</th>\n",
       "      <th>MLA Test Accuracy Mean</th>\n",
       "      <th>MLA Test Accuracy 3*STD</th>\n",
       "      <th>MLA Time</th>\n",
       "    </tr>\n",
       "  </thead>\n",
       "  <tbody>\n",
       "    <tr>\n",
       "      <th>3</th>\n",
       "      <td>GradientBoostingClassifier</td>\n",
       "      <td>{'criterion': 'friedman_mse', 'init': None, 'l...</td>\n",
       "      <td>0.605161</td>\n",
       "      <td>0.520389</td>\n",
       "      <td>0.0178071</td>\n",
       "      <td>0.85595</td>\n",
       "    </tr>\n",
       "    <tr>\n",
       "      <th>0</th>\n",
       "      <td>AdaBoostClassifier</td>\n",
       "      <td>{'algorithm': 'SAMME.R', 'base_estimator': Non...</td>\n",
       "      <td>0.544856</td>\n",
       "      <td>0.519022</td>\n",
       "      <td>0.0119385</td>\n",
       "      <td>0.594676</td>\n",
       "    </tr>\n",
       "    <tr>\n",
       "      <th>18</th>\n",
       "      <td>XGBClassifier</td>\n",
       "      <td>{'objective': 'binary:logistic', 'base_score':...</td>\n",
       "      <td>0.890239</td>\n",
       "      <td>0.514311</td>\n",
       "      <td>0.0181731</td>\n",
       "      <td>0.421138</td>\n",
       "    </tr>\n",
       "    <tr>\n",
       "      <th>7</th>\n",
       "      <td>RidgeClassifierCV</td>\n",
       "      <td>{'alphas': array([ 0.1,  1. , 10. ]), 'class_w...</td>\n",
       "      <td>0.516394</td>\n",
       "      <td>0.509689</td>\n",
       "      <td>0.0087595</td>\n",
       "      <td>0.0301797</td>\n",
       "    </tr>\n",
       "    <tr>\n",
       "      <th>16</th>\n",
       "      <td>LinearDiscriminantAnalysis</td>\n",
       "      <td>{'n_components': None, 'priors': None, 'shrink...</td>\n",
       "      <td>0.516406</td>\n",
       "      <td>0.509611</td>\n",
       "      <td>0.00870536</td>\n",
       "      <td>0.0552523</td>\n",
       "    </tr>\n",
       "    <tr>\n",
       "      <th>5</th>\n",
       "      <td>LogisticRegressionCV</td>\n",
       "      <td>{'Cs': 10, 'class_weight': None, 'cv': 'warn',...</td>\n",
       "      <td>0.516511</td>\n",
       "      <td>0.509367</td>\n",
       "      <td>0.00814323</td>\n",
       "      <td>0.317361</td>\n",
       "    </tr>\n",
       "    <tr>\n",
       "      <th>17</th>\n",
       "      <td>QuadraticDiscriminantAnalysis</td>\n",
       "      <td>{'priors': None, 'reg_param': 0.0, 'store_cova...</td>\n",
       "      <td>0.529694</td>\n",
       "      <td>0.509233</td>\n",
       "      <td>0.0109539</td>\n",
       "      <td>0.0121172</td>\n",
       "    </tr>\n",
       "    <tr>\n",
       "      <th>11</th>\n",
       "      <td>GaussianNB</td>\n",
       "      <td>{'priors': None, 'var_smoothing': 1e-09}</td>\n",
       "      <td>0.516133</td>\n",
       "      <td>0.508256</td>\n",
       "      <td>0.011681</td>\n",
       "      <td>0.00733292</td>\n",
       "    </tr>\n",
       "    <tr>\n",
       "      <th>1</th>\n",
       "      <td>BaggingClassifier</td>\n",
       "      <td>{'base_estimator': None, 'bootstrap': True, 'b...</td>\n",
       "      <td>0.985389</td>\n",
       "      <td>0.505411</td>\n",
       "      <td>0.00542638</td>\n",
       "      <td>0.975806</td>\n",
       "    </tr>\n",
       "    <tr>\n",
       "      <th>15</th>\n",
       "      <td>ExtraTreeClassifier</td>\n",
       "      <td>{'class_weight': None, 'criterion': 'gini', 'm...</td>\n",
       "      <td>1</td>\n",
       "      <td>0.503144</td>\n",
       "      <td>0.0145999</td>\n",
       "      <td>0.0216884</td>\n",
       "    </tr>\n",
       "    <tr>\n",
       "      <th>2</th>\n",
       "      <td>ExtraTreesClassifier</td>\n",
       "      <td>{'bootstrap': False, 'class_weight': None, 'cr...</td>\n",
       "      <td>1</td>\n",
       "      <td>0.5031</td>\n",
       "      <td>0.00868773</td>\n",
       "      <td>0.189001</td>\n",
       "    </tr>\n",
       "    <tr>\n",
       "      <th>14</th>\n",
       "      <td>DecisionTreeClassifier</td>\n",
       "      <td>{'class_weight': None, 'criterion': 'gini', 'm...</td>\n",
       "      <td>1</td>\n",
       "      <td>0.502389</td>\n",
       "      <td>0.0115578</td>\n",
       "      <td>0.150455</td>\n",
       "    </tr>\n",
       "    <tr>\n",
       "      <th>9</th>\n",
       "      <td>Perceptron</td>\n",
       "      <td>{'alpha': 0.0001, 'class_weight': None, 'early...</td>\n",
       "      <td>0.501083</td>\n",
       "      <td>0.501189</td>\n",
       "      <td>0.0209444</td>\n",
       "      <td>0.0182694</td>\n",
       "    </tr>\n",
       "    <tr>\n",
       "      <th>4</th>\n",
       "      <td>RandomForestClassifier</td>\n",
       "      <td>{'bootstrap': True, 'class_weight': None, 'cri...</td>\n",
       "      <td>0.985594</td>\n",
       "      <td>0.501144</td>\n",
       "      <td>0.0106646</td>\n",
       "      <td>0.308407</td>\n",
       "    </tr>\n",
       "    <tr>\n",
       "      <th>12</th>\n",
       "      <td>KNeighborsClassifier</td>\n",
       "      <td>{'algorithm': 'auto', 'leaf_size': 30, 'metric...</td>\n",
       "      <td>0.688444</td>\n",
       "      <td>0.5007</td>\n",
       "      <td>0.00899883</td>\n",
       "      <td>0.0130765</td>\n",
       "    </tr>\n",
       "    <tr>\n",
       "      <th>6</th>\n",
       "      <td>PassiveAggressiveClassifier</td>\n",
       "      <td>{'C': 1.0, 'average': False, 'class_weight': N...</td>\n",
       "      <td>0.500544</td>\n",
       "      <td>0.500211</td>\n",
       "      <td>0.0170114</td>\n",
       "      <td>0.0231322</td>\n",
       "    </tr>\n",
       "    <tr>\n",
       "      <th>13</th>\n",
       "      <td>LinearSVC</td>\n",
       "      <td>{'C': 1.0, 'class_weight': None, 'dual': True,...</td>\n",
       "      <td>0.50055</td>\n",
       "      <td>0.499311</td>\n",
       "      <td>0.00712398</td>\n",
       "      <td>1.58659</td>\n",
       "    </tr>\n",
       "    <tr>\n",
       "      <th>8</th>\n",
       "      <td>SGDClassifier</td>\n",
       "      <td>{'alpha': 0.0001, 'average': False, 'class_wei...</td>\n",
       "      <td>0.500539</td>\n",
       "      <td>0.499044</td>\n",
       "      <td>0.0130445</td>\n",
       "      <td>0.335374</td>\n",
       "    </tr>\n",
       "    <tr>\n",
       "      <th>10</th>\n",
       "      <td>BernoulliNB</td>\n",
       "      <td>{'alpha': 1.0, 'binarize': 0.0, 'class_prior':...</td>\n",
       "      <td>0.506144</td>\n",
       "      <td>0.498478</td>\n",
       "      <td>0.0129177</td>\n",
       "      <td>0.00758398</td>\n",
       "    </tr>\n",
       "  </tbody>\n",
       "</table>\n",
       "</div>"
      ],
      "text/plain": [
       "                         MLA Name  \\\n",
       "3      GradientBoostingClassifier   \n",
       "0              AdaBoostClassifier   \n",
       "18                  XGBClassifier   \n",
       "7               RidgeClassifierCV   \n",
       "16     LinearDiscriminantAnalysis   \n",
       "5            LogisticRegressionCV   \n",
       "17  QuadraticDiscriminantAnalysis   \n",
       "11                     GaussianNB   \n",
       "1               BaggingClassifier   \n",
       "15            ExtraTreeClassifier   \n",
       "2            ExtraTreesClassifier   \n",
       "14         DecisionTreeClassifier   \n",
       "9                      Perceptron   \n",
       "4          RandomForestClassifier   \n",
       "12           KNeighborsClassifier   \n",
       "6     PassiveAggressiveClassifier   \n",
       "13                      LinearSVC   \n",
       "8                   SGDClassifier   \n",
       "10                    BernoulliNB   \n",
       "\n",
       "                                       MLA Parameters MLA Train Accuracy Mean  \\\n",
       "3   {'criterion': 'friedman_mse', 'init': None, 'l...                0.605161   \n",
       "0   {'algorithm': 'SAMME.R', 'base_estimator': Non...                0.544856   \n",
       "18  {'objective': 'binary:logistic', 'base_score':...                0.890239   \n",
       "7   {'alphas': array([ 0.1,  1. , 10. ]), 'class_w...                0.516394   \n",
       "16  {'n_components': None, 'priors': None, 'shrink...                0.516406   \n",
       "5   {'Cs': 10, 'class_weight': None, 'cv': 'warn',...                0.516511   \n",
       "17  {'priors': None, 'reg_param': 0.0, 'store_cova...                0.529694   \n",
       "11           {'priors': None, 'var_smoothing': 1e-09}                0.516133   \n",
       "1   {'base_estimator': None, 'bootstrap': True, 'b...                0.985389   \n",
       "15  {'class_weight': None, 'criterion': 'gini', 'm...                       1   \n",
       "2   {'bootstrap': False, 'class_weight': None, 'cr...                       1   \n",
       "14  {'class_weight': None, 'criterion': 'gini', 'm...                       1   \n",
       "9   {'alpha': 0.0001, 'class_weight': None, 'early...                0.501083   \n",
       "4   {'bootstrap': True, 'class_weight': None, 'cri...                0.985594   \n",
       "12  {'algorithm': 'auto', 'leaf_size': 30, 'metric...                0.688444   \n",
       "6   {'C': 1.0, 'average': False, 'class_weight': N...                0.500544   \n",
       "13  {'C': 1.0, 'class_weight': None, 'dual': True,...                 0.50055   \n",
       "8   {'alpha': 0.0001, 'average': False, 'class_wei...                0.500539   \n",
       "10  {'alpha': 1.0, 'binarize': 0.0, 'class_prior':...                0.506144   \n",
       "\n",
       "   MLA Test Accuracy Mean MLA Test Accuracy 3*STD    MLA Time  \n",
       "3                0.520389               0.0178071     0.85595  \n",
       "0                0.519022               0.0119385    0.594676  \n",
       "18               0.514311               0.0181731    0.421138  \n",
       "7                0.509689               0.0087595   0.0301797  \n",
       "16               0.509611              0.00870536   0.0552523  \n",
       "5                0.509367              0.00814323    0.317361  \n",
       "17               0.509233               0.0109539   0.0121172  \n",
       "11               0.508256                0.011681  0.00733292  \n",
       "1                0.505411              0.00542638    0.975806  \n",
       "15               0.503144               0.0145999   0.0216884  \n",
       "2                  0.5031              0.00868773    0.189001  \n",
       "14               0.502389               0.0115578    0.150455  \n",
       "9                0.501189               0.0209444   0.0182694  \n",
       "4                0.501144               0.0106646    0.308407  \n",
       "12                 0.5007              0.00899883   0.0130765  \n",
       "6                0.500211               0.0170114   0.0231322  \n",
       "13               0.499311              0.00712398     1.58659  \n",
       "8                0.499044               0.0130445    0.335374  \n",
       "10               0.498478               0.0129177  0.00758398  "
      ]
     },
     "execution_count": 59,
     "metadata": {},
     "output_type": "execute_result"
    }
   ],
   "source": [
    "import warnings\n",
    "warnings.filterwarnings('ignore')\n",
    "from tqdm import tqdm\n",
    "\n",
    "cv_split = model_selection.ShuffleSplit(n_splits = 10, test_size = .3, train_size = .6, random_state = 0 ) # run model 10x with 60/30 split intentionally leaving out 10%\n",
    "\n",
    "#create table to compare MLA metrics\n",
    "MLA_columns = ['MLA Name', 'MLA Parameters','MLA Train Accuracy Mean', 'MLA Test Accuracy Mean', 'MLA Test Accuracy 3*STD' ,'MLA Time']\n",
    "MLA_compare = pd.DataFrame(columns = MLA_columns)\n",
    "\n",
    "#create table to compare MLA predictions\n",
    "MLA_predict = data1[Target]\n",
    "\n",
    "#index through MLA and save performance to table\n",
    "p_bar = tqdm(MLA)\n",
    "row_index = 0\n",
    "for alg in p_bar:\n",
    "    #set name and parameters\n",
    "    MLA_name = alg.__class__.__name__\n",
    "    p_bar.set_description(f'Working on \"{MLA_name}\"')\n",
    "    MLA_compare.loc[row_index, 'MLA Name'] = MLA_name\n",
    "    MLA_compare.loc[row_index, 'MLA Parameters'] = str(alg.get_params())\n",
    "    \n",
    "    #score model with cross validation: http://scikit-learn.org/stable/modules/generated/sklearn.model_selection.cross_validate.html#sklearn.model_selection.cross_validate\n",
    "    cv_results = model_selection.cross_validate(alg, data1[col_names], data1[Target], cv  = cv_split, return_train_score=True)\n",
    "\n",
    "    MLA_compare.loc[row_index, 'MLA Time'] = cv_results['fit_time'].mean()\n",
    "    MLA_compare.loc[row_index, 'MLA Train Accuracy Mean'] = cv_results['train_score'].mean()\n",
    "    MLA_compare.loc[row_index, 'MLA Test Accuracy Mean'] = cv_results['test_score'].mean()   \n",
    "    #if this is a non-bias random sample, then +/-3 standard deviations (std) from the mean, should statistically capture 99.7% of the subsets\n",
    "    MLA_compare.loc[row_index, 'MLA Test Accuracy 3*STD'] = cv_results['test_score'].std()*3   #let's know the worst that can happen!\n",
    "    \n",
    "\n",
    "    #save MLA predictions - see section 6 for usage\n",
    "    alg.fit(data1[col_names], data1[Target])\n",
    "    MLA_predict[MLA_name] = alg.predict(data1[col_names])\n",
    "    \n",
    "    row_index+=1\n",
    "\n",
    "    \n",
    "#print and sort table: https://pandas.pydata.org/pandas-docs/stable/generated/pandas.DataFrame.sort_values.html\n",
    "MLA_compare.sort_values(by = ['MLA Test Accuracy Mean'], ascending = False, inplace = True)\n",
    "MLA_compare\n",
    "#MLA_predict"
   ]
  },
  {
   "cell_type": "code",
   "execution_count": 60,
   "metadata": {
    "scrolled": true
   },
   "outputs": [
    {
     "data": {
      "text/plain": [
       "Text(0, 0.5, 'Algorithm')"
      ]
     },
     "execution_count": 60,
     "metadata": {},
     "output_type": "execute_result"
    },
    {
     "data": {
      "image/png": "[encoded data removed]",
      "text/plain": [
       "<Figure size 432x288 with 1 Axes>"
      ]
     },
     "metadata": {
      "needs_background": "light"
     },
     "output_type": "display_data"
    }
   ],
   "source": [
    "sns.barplot(x='MLA Test Accuracy Mean', y = 'MLA Name', data = MLA_compare, color = 'm')\n",
    "\n",
    "#prettify using pyplot: https://matplotlib.org/api/pyplot_api.html\n",
    "plt.title('Machine Learning Algorithm Accuracy Score \\n')\n",
    "plt.xlabel('Accuracy Score (%)')\n",
    "plt.ylabel('Algorithm')"
   ]
  },
  {
   "cell_type": "code",
   "execution_count": null,
   "metadata": {},
   "outputs": [],
   "source": []
  }
 ],
 "metadata": {
  "kernelspec": {
   "display_name": "Python 3",
   "language": "python",
   "name": "python3"
  },
  "language_info": {
   "codemirror_mode": {
    "name": "ipython",
    "version": 3
   },
   "file_extension": ".py",
   "mimetype": "text/x-python",
   "name": "python",
   "nbconvert_exporter": "python",
   "pygments_lexer": "ipython3",
   "version": "3.6.12"
  },
  "varInspector": {
   "cols": {
    "lenName": 16,
    "lenType": 16,
    "lenVar": 40
   },
   "kernels_config": {
    "python": {
     "delete_cmd_postfix": "",
     "delete_cmd_prefix": "del ",
     "library": "var_list.py",
     "varRefreshCmd": "print(var_dic_list())"
    },
    "r": {
     "delete_cmd_postfix": ") ",
     "delete_cmd_prefix": "rm(",
     "library": "var_list.r",
     "varRefreshCmd": "cat(var_dic_list()) "
    }
   },
   "types_to_exclude": [
    "module",
    "function",
    "builtin_function_or_method",
    "instance",
    "_Feature"
   ],
   "window_display": false
  }
 },
 "nbformat": 4,
 "nbformat_minor": 4
}
