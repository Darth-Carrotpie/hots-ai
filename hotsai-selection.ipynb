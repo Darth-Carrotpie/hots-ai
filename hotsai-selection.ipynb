{
 "cells": [
  {
   "cell_type": "markdown",
   "metadata": {},
   "source": [
    "### Imports"
   ]
  },
  {
   "cell_type": "code",
   "execution_count": 136,
   "metadata": {},
   "outputs": [],
   "source": [
    "#from fastai.imports import *\n",
    "#from fastai.structured import *\n",
    "import numpy as np\n",
    "import pandas as pd\n",
    "df = pd.read_csv('data/transform_hot_full.csv', index_col=0)\n",
    "#df = pd.read_csv('data/transform_hot_mini.csv', index_col=0)"
   ]
  },
  {
   "cell_type": "markdown",
   "metadata": {},
   "source": [
    "### Helper functions"
   ]
  },
  {
   "cell_type": "code",
   "execution_count": 137,
   "metadata": {},
   "outputs": [],
   "source": [
    "m_names = pd.read_csv(\"exports/game_map_cats.csv\",header=None, index_col=0, squeeze=True).to_dict()\n",
    "map_names = [n for x, n, in m_names.items()]\n",
    "map_names_swapped = dict([(value, key) for key, value in m_names.items()])\n",
    "\n",
    "h_names= pd.read_csv(\"exports/hero_name_cats.csv\",header=None, index_col=0, squeeze=True).to_dict()\n",
    "hero_names = [n for x, n, in h_names.items()]"
   ]
  },
  {
   "cell_type": "code",
   "execution_count": 138,
   "metadata": {},
   "outputs": [],
   "source": [
    "mns = [x[1] for x in list(enumerate(map_names))]\n",
    "yhns = ['yours_'+x[1] for x in list(enumerate(hero_names))]\n",
    "thns = ['theirs_'+x[1] for x in list(enumerate(hero_names))]\n",
    "col_names =mns+yhns+thns"
   ]
  },
  {
   "cell_type": "code",
   "execution_count": 139,
   "metadata": {},
   "outputs": [
    {
     "name": "stdout",
     "output_type": "stream",
     "text": [
      "                  data\n",
      "Infernal Shrines  True\n",
      "yours_Jaina       True\n",
      "yours_Li Li       True\n",
      "yours_Malthael    True\n",
      "yours_Stitches    True\n",
      "yours_Zul'jin     True\n",
      "theirs_Azmodan    True\n",
      "theirs_Garrosh    True\n",
      "theirs_Illidan    True\n",
      "theirs_Raynor     True\n",
      "theirs_Whitemane  True\n"
     ]
    }
   ],
   "source": [
    "tmp = df[-2:-1].transpose()\n",
    "tmp.columns = [\"data\"]\n",
    "print(tmp[tmp['data']==True])"
   ]
  },
  {
   "cell_type": "markdown",
   "metadata": {},
   "source": [
    "### Training"
   ]
  },
  {
   "cell_type": "markdown",
   "metadata": {},
   "source": [
    "#### Prepare X and Y for train and val sets."
   ]
  },
  {
   "cell_type": "code",
   "execution_count": 140,
   "metadata": {},
   "outputs": [],
   "source": [
    "#SAMPLE_SIZE = 3000\n",
    "data1 = df#.sample(n = SAMPLE_SIZE, random_state = 1, axis = 0)\n",
    "#train_cats(data1)"
   ]
  },
  {
   "cell_type": "markdown",
   "metadata": {},
   "source": [
    "## Training many models for comparison"
   ]
  },
  {
   "cell_type": "code",
   "execution_count": 141,
   "metadata": {},
   "outputs": [],
   "source": [
    "#from: https://www.kaggle.com/ldfreeman3/a-data-science-framework-to-achieve-99-accuracy\n",
    "from sklearn import linear_model, ensemble, gaussian_process, naive_bayes, neighbors, svm, tree, discriminant_analysis\n",
    "from sklearn import model_selection\n",
    "from xgboost import XGBClassifier"
   ]
  },
  {
   "cell_type": "code",
   "execution_count": 142,
   "metadata": {},
   "outputs": [],
   "source": [
    "MLA = [\n",
    "    #Ensemble Methods\n",
    "    ensemble.AdaBoostClassifier(),\n",
    "    ensemble.BaggingClassifier(),\n",
    "    ensemble.ExtraTreesClassifier(),\n",
    "    ensemble.GradientBoostingClassifier(),\n",
    "    ensemble.RandomForestClassifier(),\n",
    "\n",
    "    #Gaussian Processes\n",
    "    #gaussian_process.GaussianProcessClassifier(),\n",
    "    \n",
    "    #GLM\n",
    "    linear_model.LogisticRegressionCV(),\n",
    "    linear_model.PassiveAggressiveClassifier(),\n",
    "    linear_model.RidgeClassifierCV(),\n",
    "    linear_model.SGDClassifier(),\n",
    "    linear_model.Perceptron(),\n",
    "    \n",
    "    #Navies Bayes\n",
    "    naive_bayes.BernoulliNB(),\n",
    "    naive_bayes.GaussianNB(),\n",
    "    \n",
    "    #Nearest Neighbor\n",
    "    neighbors.KNeighborsClassifier(),\n",
    "    \n",
    "    #SVM\n",
    "    #svm.SVC(probability=True),\n",
    "    #svm.NuSVC(probability=True),\n",
    "    svm.LinearSVC(),\n",
    "    \n",
    "    #Trees    \n",
    "    tree.DecisionTreeClassifier(),\n",
    "    tree.ExtraTreeClassifier(),\n",
    "    \n",
    "    #Discriminant Analysis\n",
    "    discriminant_analysis.LinearDiscriminantAnalysis(),\n",
    "    discriminant_analysis.QuadraticDiscriminantAnalysis(),\n",
    "\n",
    "    \n",
    "    #xgboost: http://xgboost.readthedocs.io/en/latest/model.html\n",
    "    XGBClassifier()    \n",
    "    ]"
   ]
  },
  {
   "cell_type": "code",
   "execution_count": 143,
   "metadata": {},
   "outputs": [
    {
     "data": {
      "text/plain": [
       "outcome    0.498\n",
       "dtype: float64"
      ]
     },
     "execution_count": 143,
     "metadata": {},
     "output_type": "execute_result"
    }
   ],
   "source": [
    "Target = ['outcome']\n",
    "data1[Target].mean()"
   ]
  },
  {
   "cell_type": "code",
   "execution_count": 144,
   "metadata": {},
   "outputs": [
    {
     "name": "stderr",
     "output_type": "stream",
     "text": [
      "Working on \"XGBClassifier\": 100%|██████████| 19/19 [01:18<00:00,  4.13s/it]                \n"
     ]
    },
    {
     "data": {
      "text/html": [
       "<div>\n",
       "<style scoped>\n",
       "    .dataframe tbody tr th:only-of-type {\n",
       "        vertical-align: middle;\n",
       "    }\n",
       "\n",
       "    .dataframe tbody tr th {\n",
       "        vertical-align: top;\n",
       "    }\n",
       "\n",
       "    .dataframe thead th {\n",
       "        text-align: right;\n",
       "    }\n",
       "</style>\n",
       "<table border=\"1\" class=\"dataframe\">\n",
       "  <thead>\n",
       "    <tr style=\"text-align: right;\">\n",
       "      <th></th>\n",
       "      <th>MLA Name</th>\n",
       "      <th>MLA Parameters</th>\n",
       "      <th>MLA Train Accuracy Mean</th>\n",
       "      <th>MLA Test Accuracy Mean</th>\n",
       "      <th>MLA Test Accuracy 3*STD</th>\n",
       "      <th>MLA Time</th>\n",
       "    </tr>\n",
       "  </thead>\n",
       "  <tbody>\n",
       "    <tr>\n",
       "      <th>11</th>\n",
       "      <td>GaussianNB</td>\n",
       "      <td>{'priors': None, 'var_smoothing': 1e-09}</td>\n",
       "      <td>0.589567</td>\n",
       "      <td>0.5102</td>\n",
       "      <td>0.0262914</td>\n",
       "      <td>0.00926998</td>\n",
       "    </tr>\n",
       "    <tr>\n",
       "      <th>8</th>\n",
       "      <td>SGDClassifier</td>\n",
       "      <td>{'alpha': 0.0001, 'average': False, 'class_wei...</td>\n",
       "      <td>0.574</td>\n",
       "      <td>0.507067</td>\n",
       "      <td>0.0408039</td>\n",
       "      <td>0.108995</td>\n",
       "    </tr>\n",
       "    <tr>\n",
       "      <th>3</th>\n",
       "      <td>GradientBoostingClassifier</td>\n",
       "      <td>{'criterion': 'friedman_mse', 'init': None, 'l...</td>\n",
       "      <td>0.7261</td>\n",
       "      <td>0.5068</td>\n",
       "      <td>0.0207229</td>\n",
       "      <td>0.748346</td>\n",
       "    </tr>\n",
       "    <tr>\n",
       "      <th>1</th>\n",
       "      <td>BaggingClassifier</td>\n",
       "      <td>{'base_estimator': None, 'bootstrap': True, 'b...</td>\n",
       "      <td>0.984833</td>\n",
       "      <td>0.506467</td>\n",
       "      <td>0.0232388</td>\n",
       "      <td>0.342899</td>\n",
       "    </tr>\n",
       "    <tr>\n",
       "      <th>4</th>\n",
       "      <td>RandomForestClassifier</td>\n",
       "      <td>{'bootstrap': True, 'class_weight': None, 'cri...</td>\n",
       "      <td>0.984033</td>\n",
       "      <td>0.506333</td>\n",
       "      <td>0.0370972</td>\n",
       "      <td>0.0538209</td>\n",
       "    </tr>\n",
       "    <tr>\n",
       "      <th>15</th>\n",
       "      <td>ExtraTreeClassifier</td>\n",
       "      <td>{'class_weight': None, 'criterion': 'gini', 'm...</td>\n",
       "      <td>1</td>\n",
       "      <td>0.505733</td>\n",
       "      <td>0.0342719</td>\n",
       "      <td>0.00972674</td>\n",
       "    </tr>\n",
       "    <tr>\n",
       "      <th>9</th>\n",
       "      <td>Perceptron</td>\n",
       "      <td>{'alpha': 0.0001, 'class_weight': None, 'early...</td>\n",
       "      <td>0.537333</td>\n",
       "      <td>0.505133</td>\n",
       "      <td>0.0293673</td>\n",
       "      <td>0.0145641</td>\n",
       "    </tr>\n",
       "    <tr>\n",
       "      <th>2</th>\n",
       "      <td>ExtraTreesClassifier</td>\n",
       "      <td>{'bootstrap': False, 'class_weight': None, 'cr...</td>\n",
       "      <td>1</td>\n",
       "      <td>0.5048</td>\n",
       "      <td>0.035853</td>\n",
       "      <td>0.0810459</td>\n",
       "    </tr>\n",
       "    <tr>\n",
       "      <th>10</th>\n",
       "      <td>BernoulliNB</td>\n",
       "      <td>{'alpha': 1.0, 'binarize': 0.0, 'class_prior':...</td>\n",
       "      <td>0.598867</td>\n",
       "      <td>0.504067</td>\n",
       "      <td>0.0227939</td>\n",
       "      <td>0.00702136</td>\n",
       "    </tr>\n",
       "    <tr>\n",
       "      <th>17</th>\n",
       "      <td>QuadraticDiscriminantAnalysis</td>\n",
       "      <td>{'priors': None, 'reg_param': 0.0, 'store_cova...</td>\n",
       "      <td>0.6157</td>\n",
       "      <td>0.502933</td>\n",
       "      <td>0.0505427</td>\n",
       "      <td>0.0671688</td>\n",
       "    </tr>\n",
       "    <tr>\n",
       "      <th>16</th>\n",
       "      <td>LinearDiscriminantAnalysis</td>\n",
       "      <td>{'n_components': None, 'priors': None, 'shrink...</td>\n",
       "      <td>0.602033</td>\n",
       "      <td>0.502533</td>\n",
       "      <td>0.0160449</td>\n",
       "      <td>0.123062</td>\n",
       "    </tr>\n",
       "    <tr>\n",
       "      <th>13</th>\n",
       "      <td>LinearSVC</td>\n",
       "      <td>{'C': 1.0, 'class_weight': None, 'dual': True,...</td>\n",
       "      <td>0.602567</td>\n",
       "      <td>0.5022</td>\n",
       "      <td>0.0150213</td>\n",
       "      <td>0.0653285</td>\n",
       "    </tr>\n",
       "    <tr>\n",
       "      <th>18</th>\n",
       "      <td>XGBClassifier</td>\n",
       "      <td>{'objective': 'binary:logistic', 'base_score':...</td>\n",
       "      <td>0.957267</td>\n",
       "      <td>0.5012</td>\n",
       "      <td>0.0262724</td>\n",
       "      <td>0.772581</td>\n",
       "    </tr>\n",
       "    <tr>\n",
       "      <th>7</th>\n",
       "      <td>RidgeClassifierCV</td>\n",
       "      <td>{'alphas': array([ 0.1,  1. , 10. ]), 'class_w...</td>\n",
       "      <td>0.602267</td>\n",
       "      <td>0.499467</td>\n",
       "      <td>0.0161938</td>\n",
       "      <td>0.0963662</td>\n",
       "    </tr>\n",
       "    <tr>\n",
       "      <th>14</th>\n",
       "      <td>DecisionTreeClassifier</td>\n",
       "      <td>{'class_weight': None, 'criterion': 'gini', 'm...</td>\n",
       "      <td>1</td>\n",
       "      <td>0.4994</td>\n",
       "      <td>0.0430948</td>\n",
       "      <td>0.0579139</td>\n",
       "    </tr>\n",
       "    <tr>\n",
       "      <th>5</th>\n",
       "      <td>LogisticRegressionCV</td>\n",
       "      <td>{'Cs': 10, 'class_weight': None, 'cv': 'warn',...</td>\n",
       "      <td>0.583267</td>\n",
       "      <td>0.4986</td>\n",
       "      <td>0.0227763</td>\n",
       "      <td>0.328326</td>\n",
       "    </tr>\n",
       "    <tr>\n",
       "      <th>6</th>\n",
       "      <td>PassiveAggressiveClassifier</td>\n",
       "      <td>{'C': 1.0, 'average': False, 'class_weight': N...</td>\n",
       "      <td>0.532467</td>\n",
       "      <td>0.498533</td>\n",
       "      <td>0.0327756</td>\n",
       "      <td>0.022044</td>\n",
       "    </tr>\n",
       "    <tr>\n",
       "      <th>0</th>\n",
       "      <td>AdaBoostClassifier</td>\n",
       "      <td>{'algorithm': 'SAMME.R', 'base_estimator': Non...</td>\n",
       "      <td>0.5857</td>\n",
       "      <td>0.4968</td>\n",
       "      <td>0.0284084</td>\n",
       "      <td>0.264262</td>\n",
       "    </tr>\n",
       "    <tr>\n",
       "      <th>12</th>\n",
       "      <td>KNeighborsClassifier</td>\n",
       "      <td>{'algorithm': 'auto', 'leaf_size': 30, 'metric...</td>\n",
       "      <td>0.683367</td>\n",
       "      <td>0.4952</td>\n",
       "      <td>0.0240466</td>\n",
       "      <td>0.0182623</td>\n",
       "    </tr>\n",
       "  </tbody>\n",
       "</table>\n",
       "</div>"
      ],
      "text/plain": [
       "                         MLA Name  \\\n",
       "11                     GaussianNB   \n",
       "8                   SGDClassifier   \n",
       "3      GradientBoostingClassifier   \n",
       "1               BaggingClassifier   \n",
       "4          RandomForestClassifier   \n",
       "15            ExtraTreeClassifier   \n",
       "9                      Perceptron   \n",
       "2            ExtraTreesClassifier   \n",
       "10                    BernoulliNB   \n",
       "17  QuadraticDiscriminantAnalysis   \n",
       "16     LinearDiscriminantAnalysis   \n",
       "13                      LinearSVC   \n",
       "18                  XGBClassifier   \n",
       "7               RidgeClassifierCV   \n",
       "14         DecisionTreeClassifier   \n",
       "5            LogisticRegressionCV   \n",
       "6     PassiveAggressiveClassifier   \n",
       "0              AdaBoostClassifier   \n",
       "12           KNeighborsClassifier   \n",
       "\n",
       "                                       MLA Parameters MLA Train Accuracy Mean  \\\n",
       "11           {'priors': None, 'var_smoothing': 1e-09}                0.589567   \n",
       "8   {'alpha': 0.0001, 'average': False, 'class_wei...                   0.574   \n",
       "3   {'criterion': 'friedman_mse', 'init': None, 'l...                  0.7261   \n",
       "1   {'base_estimator': None, 'bootstrap': True, 'b...                0.984833   \n",
       "4   {'bootstrap': True, 'class_weight': None, 'cri...                0.984033   \n",
       "15  {'class_weight': None, 'criterion': 'gini', 'm...                       1   \n",
       "9   {'alpha': 0.0001, 'class_weight': None, 'early...                0.537333   \n",
       "2   {'bootstrap': False, 'class_weight': None, 'cr...                       1   \n",
       "10  {'alpha': 1.0, 'binarize': 0.0, 'class_prior':...                0.598867   \n",
       "17  {'priors': None, 'reg_param': 0.0, 'store_cova...                  0.6157   \n",
       "16  {'n_components': None, 'priors': None, 'shrink...                0.602033   \n",
       "13  {'C': 1.0, 'class_weight': None, 'dual': True,...                0.602567   \n",
       "18  {'objective': 'binary:logistic', 'base_score':...                0.957267   \n",
       "7   {'alphas': array([ 0.1,  1. , 10. ]), 'class_w...                0.602267   \n",
       "14  {'class_weight': None, 'criterion': 'gini', 'm...                       1   \n",
       "5   {'Cs': 10, 'class_weight': None, 'cv': 'warn',...                0.583267   \n",
       "6   {'C': 1.0, 'average': False, 'class_weight': N...                0.532467   \n",
       "0   {'algorithm': 'SAMME.R', 'base_estimator': Non...                  0.5857   \n",
       "12  {'algorithm': 'auto', 'leaf_size': 30, 'metric...                0.683367   \n",
       "\n",
       "   MLA Test Accuracy Mean MLA Test Accuracy 3*STD    MLA Time  \n",
       "11                 0.5102               0.0262914  0.00926998  \n",
       "8                0.507067               0.0408039    0.108995  \n",
       "3                  0.5068               0.0207229    0.748346  \n",
       "1                0.506467               0.0232388    0.342899  \n",
       "4                0.506333               0.0370972   0.0538209  \n",
       "15               0.505733               0.0342719  0.00972674  \n",
       "9                0.505133               0.0293673   0.0145641  \n",
       "2                  0.5048                0.035853   0.0810459  \n",
       "10               0.504067               0.0227939  0.00702136  \n",
       "17               0.502933               0.0505427   0.0671688  \n",
       "16               0.502533               0.0160449    0.123062  \n",
       "13                 0.5022               0.0150213   0.0653285  \n",
       "18                 0.5012               0.0262724    0.772581  \n",
       "7                0.499467               0.0161938   0.0963662  \n",
       "14                 0.4994               0.0430948   0.0579139  \n",
       "5                  0.4986               0.0227763    0.328326  \n",
       "6                0.498533               0.0327756    0.022044  \n",
       "0                  0.4968               0.0284084    0.264262  \n",
       "12                 0.4952               0.0240466   0.0182623  "
      ]
     },
     "execution_count": 144,
     "metadata": {},
     "output_type": "execute_result"
    }
   ],
   "source": [
    "import warnings\n",
    "warnings.filterwarnings('ignore')\n",
    "from tqdm import tqdm\n",
    "\n",
    "cv_split = model_selection.ShuffleSplit(n_splits = 10, test_size = .3, train_size = .6, random_state = 0 ) # run model 10x with 60/30 split intentionally leaving out 10%\n",
    "\n",
    "#create table to compare MLA metrics\n",
    "MLA_columns = ['MLA Name', 'MLA Parameters','MLA Train Accuracy Mean', 'MLA Test Accuracy Mean', 'MLA Test Accuracy 3*STD' ,'MLA Time']\n",
    "MLA_compare = pd.DataFrame(columns = MLA_columns)\n",
    "\n",
    "#create table to compare MLA predictions\n",
    "MLA_predict = data1[Target]\n",
    "\n",
    "#index through MLA and save performance to table\n",
    "p_bar = tqdm(MLA)\n",
    "row_index = 0\n",
    "for alg in p_bar:\n",
    "    #set name and parameters\n",
    "    MLA_name = alg.__class__.__name__\n",
    "    p_bar.set_description(f'Working on \"{MLA_name}\"')\n",
    "    MLA_compare.loc[row_index, 'MLA Name'] = MLA_name\n",
    "    MLA_compare.loc[row_index, 'MLA Parameters'] = str(alg.get_params())\n",
    "    \n",
    "    #score model with cross validation: http://scikit-learn.org/stable/modules/generated/sklearn.model_selection.cross_validate.html#sklearn.model_selection.cross_validate\n",
    "    cv_results = model_selection.cross_validate(alg, data1[col_names], data1[Target], cv  = cv_split, return_train_score=True)\n",
    "\n",
    "    MLA_compare.loc[row_index, 'MLA Time'] = cv_results['fit_time'].mean()\n",
    "    MLA_compare.loc[row_index, 'MLA Train Accuracy Mean'] = cv_results['train_score'].mean()\n",
    "    MLA_compare.loc[row_index, 'MLA Test Accuracy Mean'] = cv_results['test_score'].mean()   \n",
    "    #if this is a non-bias random sample, then +/-3 standard deviations (std) from the mean, should statistically capture 99.7% of the subsets\n",
    "    MLA_compare.loc[row_index, 'MLA Test Accuracy 3*STD'] = cv_results['test_score'].std()*3   #let's know the worst that can happen!\n",
    "    \n",
    "\n",
    "    #save MLA predictions - see section 6 for usage\n",
    "    alg.fit(data1[col_names], data1[Target])\n",
    "    MLA_predict[MLA_name] = alg.predict(data1[col_names])\n",
    "    \n",
    "    row_index+=1\n",
    "\n",
    "    \n",
    "#print and sort table: https://pandas.pydata.org/pandas-docs/stable/generated/pandas.DataFrame.sort_values.html\n",
    "MLA_compare.sort_values(by = ['MLA Test Accuracy Mean'], ascending = False, inplace = True)\n",
    "MLA_compare\n",
    "#MLA_predict"
   ]
  },
  {
   "cell_type": "code",
   "execution_count": 145,
   "metadata": {
    "scrolled": true
   },
   "outputs": [
    {
     "data": {
      "text/plain": [
       "Text(0, 0.5, 'Algorithm')"
      ]
     },
     "execution_count": 145,
     "metadata": {},
     "output_type": "execute_result"
    },
    {
     "data": {
      "image/png": "[encoded data removed]",
      "text/plain": [
       "<Figure size 432x288 with 1 Axes>"
      ]
     },
     "metadata": {
      "needs_background": "light"
     },
     "output_type": "display_data"
    }
   ],
   "source": [
    "sns.barplot(x='MLA Test Accuracy Mean', y = 'MLA Name', data = MLA_compare, color = 'm')\n",
    "\n",
    "#prettify using pyplot: https://matplotlib.org/api/pyplot_api.html\n",
    "plt.title('Machine Learning Algorithm Accuracy Score \\n')\n",
    "plt.xlabel('Accuracy Score (%)')\n",
    "plt.ylabel('Algorithm')"
   ]
  }
 ],
 "metadata": {
  "kernelspec": {
   "display_name": "Python 3",
   "language": "python",
   "name": "python3"
  },
  "language_info": {
   "codemirror_mode": {
    "name": "ipython",
    "version": 3
   },
   "file_extension": ".py",
   "mimetype": "text/x-python",
   "name": "python",
   "nbconvert_exporter": "python",
   "pygments_lexer": "ipython3",
   "version": "3.6.12"
  },
  "varInspector": {
   "cols": {
    "lenName": 16,
    "lenType": 16,
    "lenVar": 40
   },
   "kernels_config": {
    "python": {
     "delete_cmd_postfix": "",
     "delete_cmd_prefix": "del ",
     "library": "var_list.py",
     "varRefreshCmd": "print(var_dic_list())"
    },
    "r": {
     "delete_cmd_postfix": ") ",
     "delete_cmd_prefix": "rm(",
     "library": "var_list.r",
     "varRefreshCmd": "cat(var_dic_list()) "
    }
   },
   "types_to_exclude": [
    "module",
    "function",
    "builtin_function_or_method",
    "instance",
    "_Feature"
   ],
   "window_display": false
  }
 },
 "nbformat": 4,
 "nbformat_minor": 4
}
